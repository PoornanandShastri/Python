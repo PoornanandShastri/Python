{
 "cells": [
  {
   "cell_type": "markdown",
   "metadata": {},
   "source": [
    "### Python Comments"
   ]
  },
  {
   "cell_type": "markdown",
   "metadata": {},
   "source": [
    "##### A single-line comment starts with # and extends up to the end of the line."
   ]
  },
  {
   "cell_type": "code",
   "execution_count": 20,
   "metadata": {},
   "outputs": [
    {
     "name": "stdout",
     "output_type": "stream",
     "text": [
      "hello world\n"
     ]
    }
   ],
   "source": [
    "# single line comment\n",
    "print('hello world')"
   ]
  },
  {
   "cell_type": "code",
   "execution_count": 21,
   "metadata": {},
   "outputs": [
    {
     "name": "stdout",
     "output_type": "stream",
     "text": [
      "20\n"
     ]
    }
   ],
   "source": [
    "# Multiple single line comment \n",
    "# print product of two num\n",
    "print(10*2)"
   ]
  },
  {
   "cell_type": "code",
   "execution_count": 22,
   "metadata": {},
   "outputs": [
    {
     "name": "stdout",
     "output_type": "stream",
     "text": [
      "vivek\n"
     ]
    }
   ],
   "source": [
    "name = 'vivek'\n",
    "print(name) # inline comment in sameline"
   ]
  },
  {
   "cell_type": "code",
   "execution_count": 23,
   "metadata": {},
   "outputs": [
    {
     "name": "stdout",
     "output_type": "stream",
     "text": [
      "Age of vivek is 28\n",
      "Age of vivek is 28\n",
      "Printing docs : print name and age of \n",
      "a person using format in print statement\n",
      "multiline comment also use as do string\n"
     ]
    }
   ],
   "source": [
    "#  multiline strings as comments like\n",
    "\n",
    "'''print name and age of \n",
    "a person using format in print statement\n",
    "multiline comment also use as do string'''\n",
    "\n",
    "name = 'vivek'\n",
    "age = 28\n",
    "\n",
    "print(f'Age of {name} is {age}')\n",
    "print('Age of {} is {}'.format(name,age))\n",
    "print('Printing docs :',__doc__)"
   ]
  },
  {
   "cell_type": "code",
   "execution_count": 24,
   "metadata": {},
   "outputs": [
    {
     "name": "stdout",
     "output_type": "stream",
     "text": [
      "20\n",
      "100\n",
      "15.0\n",
      "50.0\n",
      "1.0\n",
      "1.0\n"
     ]
    }
   ],
   "source": [
    "x = 10 #int\n",
    "y = 5.0 #float\n",
    "\n",
    "print(x+x)\n",
    "print(x*x)\n",
    "\n",
    "print(x+y)\n",
    "print(x*y)\n",
    "\n",
    "\n",
    "print(x/x)\n",
    "print(y/y)"
   ]
  },
  {
   "cell_type": "code",
   "execution_count": null,
   "metadata": {},
   "outputs": [],
   "source": []
  }
 ],
 "metadata": {
  "kernelspec": {
   "display_name": "Python 3",
   "language": "python",
   "name": "python3"
  },
  "language_info": {
   "codemirror_mode": {
    "name": "ipython",
    "version": 3
   },
   "file_extension": ".py",
   "mimetype": "text/x-python",
   "name": "python",
   "nbconvert_exporter": "python",
   "pygments_lexer": "ipython3",
   "version": "3.11.0"
  }
 },
 "nbformat": 4,
 "nbformat_minor": 2
}
