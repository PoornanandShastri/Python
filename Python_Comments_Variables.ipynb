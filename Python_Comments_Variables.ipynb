{
 "cells": [
  {
   "cell_type": "markdown",
   "metadata": {},
   "source": [
    "### Python Comments\n",
    "#### A single-line comment starts with # and extends up to the end of the line.\n"
   ]
  },
  {
   "cell_type": "code",
   "execution_count": 1,
   "metadata": {},
   "outputs": [
    {
     "name": "stdout",
     "output_type": "stream",
     "text": [
      "hello world\n"
     ]
    }
   ],
   "source": [
    "# single line comment\n",
    "print('hello world')"
   ]
  },
  {
   "cell_type": "code",
   "execution_count": 2,
   "metadata": {},
   "outputs": [
    {
     "name": "stdout",
     "output_type": "stream",
     "text": [
      "20\n"
     ]
    }
   ],
   "source": [
    "# Multiple single line comment \n",
    "# print product of two num\n",
    "print(10*2)"
   ]
  },
  {
   "cell_type": "code",
   "execution_count": 3,
   "metadata": {},
   "outputs": [
    {
     "name": "stdout",
     "output_type": "stream",
     "text": [
      "vivek\n"
     ]
    }
   ],
   "source": [
    "name = 'vivek'\n",
    "print(name) # inline comment in sameline"
   ]
  },
  {
   "cell_type": "code",
   "execution_count": 4,
   "metadata": {},
   "outputs": [
    {
     "name": "stdout",
     "output_type": "stream",
     "text": [
      "Age of vivek is 28\n",
      "Age of vivek is 28\n",
      "Printing docs : print name and age of \n",
      "a person using format in print statement\n",
      "multiline comment also use as do string\n"
     ]
    }
   ],
   "source": [
    "#  multiline strings as comments like\n",
    "\n",
    "'''print name and age of \n",
    "a person using format in print statement\n",
    "multiline comment also use as do string'''\n",
    "\n",
    "name = 'vivek'\n",
    "age = 28\n",
    "\n",
    "print(f'Age of {name} is {age}')\n",
    "print('Age of {} is {}'.format(name,age))\n",
    "print('Printing docs :',__doc__)"
   ]
  },
  {
   "cell_type": "code",
   "execution_count": 5,
   "metadata": {},
   "outputs": [
    {
     "name": "stdout",
     "output_type": "stream",
     "text": [
      "20\n",
      "100\n",
      "15.0\n",
      "50.0\n",
      "1.0\n",
      "1.0\n"
     ]
    }
   ],
   "source": [
    "x = 10 #int\n",
    "y = 5.0 #float\n",
    "\n",
    "print(x+x)\n",
    "print(x*x)\n",
    "\n",
    "print(x+y)\n",
    "print(x*y)\n",
    "\n",
    "\n",
    "print(x/x)\n",
    "print(y/y)\n"
   ]
  },
  {
   "cell_type": "markdown",
   "metadata": {},
   "source": [
    "### Python Variable And Literal"
   ]
  },
  {
   "cell_type": "code",
   "execution_count": 6,
   "metadata": {},
   "outputs": [
    {
     "name": "stdout",
     "output_type": "stream",
     "text": [
      "<class 'int'>\n",
      "10\n",
      "<class 'str'>\n",
      "Vivek\n",
      "<class 'float'>\n",
      "75.5\n",
      "<class 'complex'>\n",
      "(7+8j)\n",
      "<class 'bool'>\n",
      "True\n"
     ]
    }
   ],
   "source": [
    "# Python variables is a container to hold any value on a reserved location in memory\n",
    "\n",
    "# Python programming is dynamic type language so there is no need to declare a \n",
    "# variable before using it or no need to declare its data type. The declaration \n",
    "# happens automatically when we assign a value to the variable\n",
    "\n",
    "\n",
    "a = 10   # Int\n",
    "print(type(a))\n",
    "print(a)\n",
    "b = \"Vivek\"  # Str\n",
    "print(type(b))\n",
    "print(b)\n",
    "c = 75.5  # Float\n",
    "print(type(c))\n",
    "print(c)\n",
    "d = 7+8j  # Complex\n",
    "print(type(d))\n",
    "print(d)\n",
    "e = True  # Bool\n",
    "print(type(e))\n",
    "print(e)\n"
   ]
  },
  {
   "cell_type": "code",
   "execution_count": 7,
   "metadata": {},
   "outputs": [
    {
     "name": "stdout",
     "output_type": "stream",
     "text": [
      "2 5.7 Vivek\n"
     ]
    }
   ],
   "source": [
    "# We can assign multiple varible also\n",
    "\n",
    "a, b , c = 2, 5.7, \"Vivek\"\n",
    "print(a,b,c)"
   ]
  },
  {
   "cell_type": "code",
   "execution_count": 8,
   "metadata": {},
   "outputs": [
    {
     "name": "stdout",
     "output_type": "stream",
     "text": [
      "Vivek Vivek Vivek\n"
     ]
    }
   ],
   "source": [
    "# If we want to store same value in multiple variable, then \n",
    "\n",
    "a = b = c = \"Vivek\"\n",
    "print(a, b, c)\n"
   ]
  },
  {
   "cell_type": "code",
   "execution_count": 9,
   "metadata": {},
   "outputs": [
    {
     "name": "stdout",
     "output_type": "stream",
     "text": [
      "10\n",
      "140708896756808\n",
      "<class 'int'>\n",
      "Vivek\n",
      "2705730599984\n",
      "<class 'str'>\n"
     ]
    }
   ],
   "source": [
    "# Dynamic Binding\n",
    "\n",
    "# in other language we declare data type of variable and we can not strore value \n",
    "# of other data type But in python we can do that \n",
    "\n",
    "a = 10\n",
    "print(a)\n",
    "print(id(a))\n",
    "print(type(a))\n",
    "\n",
    "# Here we assign a integer value and we print its type as well and its int\n",
    "\n",
    "a = \"Vivek\"\n",
    "print(a)\n",
    "print(id(a))\n",
    "print(type(a))\n",
    "\n",
    "# now above we store string value in same variable and now that variable is str type\n",
    "# So this feature is called dynamic binding\n",
    "\n",
    "\n"
   ]
  },
  {
   "cell_type": "code",
   "execution_count": 10,
   "metadata": {},
   "outputs": [
    {
     "name": "stdout",
     "output_type": "stream",
     "text": [
      "20 30 40\n"
     ]
    },
    {
     "ename": "NameError",
     "evalue": "name 'x' is not defined",
     "output_type": "error",
     "traceback": [
      "\u001b[1;31m---------------------------------------------------------------------------\u001b[0m",
      "\u001b[1;31mNameError\u001b[0m                                 Traceback (most recent call last)",
      "Cell \u001b[1;32mIn[10], line 11\u001b[0m\n\u001b[0;32m      9\u001b[0m \u001b[38;5;66;03m# We can delete any variable with del keyword\u001b[39;00m\n\u001b[0;32m     10\u001b[0m \u001b[38;5;28;01mdel\u001b[39;00m x\n\u001b[1;32m---> 11\u001b[0m \u001b[38;5;28mprint\u001b[39m(\u001b[43mx\u001b[49m)\n\u001b[0;32m     13\u001b[0m \u001b[38;5;66;03m# Here its showing Error\u001b[39;00m\n",
      "\u001b[1;31mNameError\u001b[0m: name 'x' is not defined"
     ]
    }
   ],
   "source": [
    "# Delete A variable\n",
    "\n",
    "x = 20 \n",
    "y = 30\n",
    "z = 40\n",
    "\n",
    "print(x,y,z)\n",
    "\n",
    "# We can delete any variable with del keyword\n",
    "del x\n",
    "print(x)\n",
    "\n",
    "# Here its showing Error\n"
   ]
  },
  {
   "cell_type": "code",
   "execution_count": 11,
   "metadata": {},
   "outputs": [
    {
     "name": "stdout",
     "output_type": "stream",
     "text": [
      "vivek\n",
      "Vivek Kumar Pal\n"
     ]
    }
   ],
   "source": [
    "# Variable are case sensitive in python\n",
    "\n",
    "name = \"vivek\"\n",
    "Name = \"Vivek Kumar Pal\"\n",
    "\n",
    "print(name)\n",
    "print(Name)"
   ]
  },
  {
   "cell_type": "code",
   "execution_count": 12,
   "metadata": {},
   "outputs": [],
   "source": [
    "# Rules for declare variable name\n",
    "\n",
    "# 1. It is the combination of letter(a-z), digit(0-9) and underscore (_) symbol.\n",
    "# 2. Special chracter not allowed to declare a variable name.\n",
    "# 3. Can not start variable name with digit(0-9).\n",
    "# 4. Variable name can not be keywords.\n",
    "# 5. Variable name can start with underscore (_) symbol as well. \n"
   ]
  },
  {
   "cell_type": "code",
   "execution_count": 13,
   "metadata": {},
   "outputs": [],
   "source": [
    "# Constant is a value that does not change , but in python its not applicable.\n",
    "# but in python we use constant as upper case.\n",
    "\n",
    "TOTAL_AREA = 200\n",
    "\n",
    "# so its denoted its a constant and we dont have to change the value of this\n"
   ]
  },
  {
   "cell_type": "code",
   "execution_count": null,
   "metadata": {},
   "outputs": [],
   "source": []
  },
  {
   "cell_type": "code",
   "execution_count": null,
   "metadata": {},
   "outputs": [],
   "source": []
  },
  {
   "cell_type": "code",
   "execution_count": null,
   "metadata": {},
   "outputs": [],
   "source": []
  }
 ],
 "metadata": {
  "kernelspec": {
   "display_name": "Python 3",
   "language": "python",
   "name": "python3"
  },
  "language_info": {
   "codemirror_mode": {
    "name": "ipython",
    "version": 3
   },
   "file_extension": ".py",
   "mimetype": "text/x-python",
   "name": "python",
   "nbconvert_exporter": "python",
   "pygments_lexer": "ipython3",
   "version": "3.11.0"
  }
 },
 "nbformat": 4,
 "nbformat_minor": 2
}
