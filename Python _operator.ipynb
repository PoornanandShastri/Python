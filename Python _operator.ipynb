{
 "cells": [
  {
   "cell_type": "code",
   "execution_count": 2,
   "metadata": {},
   "outputs": [
    {
     "name": "stdout",
     "output_type": "stream",
     "text": [
      "Python 3.11.0\n"
     ]
    }
   ],
   "source": [
    "!python --version"
   ]
  },
  {
   "cell_type": "code",
   "execution_count": 16,
   "metadata": {},
   "outputs": [],
   "source": [
    "### Python Statements"
   ]
  },
  {
   "cell_type": "code",
   "execution_count": 3,
   "metadata": {},
   "outputs": [
    {
     "name": "stdout",
     "output_type": "stream",
     "text": [
      "Hello\n",
      "20\n"
     ]
    }
   ],
   "source": [
    "# statement 1\n",
    "print('Hello')\n",
    "\n",
    "# statement 2\n",
    "x = 20\n",
    "\n",
    "# statement 3\n",
    "print(x)"
   ]
  },
  {
   "cell_type": "code",
   "execution_count": 5,
   "metadata": {},
   "outputs": [
    {
     "name": "stdout",
     "output_type": "stream",
     "text": [
      "Area of rectangle: 250\n"
     ]
    }
   ],
   "source": [
    "l=50;b=5\n",
    "\n",
    "print('Area of rectangle:',l*b)"
   ]
  },
  {
   "cell_type": "code",
   "execution_count": 6,
   "metadata": {},
   "outputs": [
    {
     "name": "stdout",
     "output_type": "stream",
     "text": [
      "280\n"
     ]
    }
   ],
   "source": [
    "# Multi-Line Statements\n",
    "\n",
    "addition = 10 + 20 + \\\n",
    "           30 + 40 + \\\n",
    "           50 + 60 + 70\n",
    "print(addition)"
   ]
  },
  {
   "cell_type": "code",
   "execution_count": 7,
   "metadata": {},
   "outputs": [
    {
     "name": "stdout",
     "output_type": "stream",
     "text": [
      "280\n"
     ]
    }
   ],
   "source": [
    "# Implicit continuation:\n",
    "# We can use parentheses () to write a multi-line statement. \n",
    "\n",
    "addition = (10 + 20 +\n",
    "            30 + 40 +\n",
    "            50 + 60 + 70)\n",
    "print(addition)"
   ]
  },
  {
   "cell_type": "code",
   "execution_count": 8,
   "metadata": {},
   "outputs": [
    {
     "name": "stdout",
     "output_type": "stream",
     "text": [
      "['Emma', 'Kelly', 'Jessa']\n",
      "{'Emma': 70, 'Kelly': 65, 'Jessa': 75}\n"
     ]
    }
   ],
   "source": [
    "# list of strings\n",
    "names = ['Emma',\n",
    "         'Kelly',\n",
    "         'Jessa']\n",
    "print(names)\n",
    "\n",
    "# dictionary name as a key and mark as a value\n",
    "# string:int\n",
    "students = {'Emma': 70,\n",
    "            'Kelly': 65,\n",
    "            'Jessa': 75}\n",
    "print(students)"
   ]
  },
  {
   "cell_type": "code",
   "execution_count": 9,
   "metadata": {},
   "outputs": [],
   "source": [
    "# Single-line Comment\n"
   ]
  },
  {
   "cell_type": "code",
   "execution_count": 10,
   "metadata": {},
   "outputs": [],
   "source": [
    "# Multi-Line Comments\n",
    "# This is a\n",
    "# multiline\n",
    "# comment"
   ]
  },
  {
   "cell_type": "code",
   "execution_count": 12,
   "metadata": {},
   "outputs": [],
   "source": [
    "# inline comment\n",
    "def calculate_bonus(salary):\n",
    "    salary = salary * 7.5  # yearly bonus percentage 7.5"
   ]
  },
  {
   "cell_type": "code",
   "execution_count": 13,
   "metadata": {},
   "outputs": [],
   "source": [
    "# Docstring Comments\n",
    "\n",
    "def bonus(salary):\n",
    "    \"\"\"Calculate the bonus 10% of a salary .\"\"\"\n",
    "    return salary * 10 / 100"
   ]
  },
  {
   "cell_type": "code",
   "execution_count": 14,
   "metadata": {},
   "outputs": [
    {
     "name": "stdout",
     "output_type": "stream",
     "text": [
      "Welcome to PYnative..\n"
     ]
    }
   ],
   "source": [
    "'''\n",
    "\n",
    "I am a\n",
    "multiline comment!\n",
    "\n",
    "'''\n",
    "print(\"Welcome to PYnative..\")"
   ]
  },
  {
   "cell_type": "code",
   "execution_count": 1,
   "metadata": {},
   "outputs": [
    {
     "name": "stdout",
     "output_type": "stream",
     "text": [
      "1\n"
     ]
    }
   ],
   "source": [
    "x,y =1,2\n",
    "z=x+y\n",
    "print(z)"
   ]
  },
  {
   "cell_type": "code",
   "execution_count": 1,
   "metadata": {},
   "outputs": [
    {
     "name": "stdout",
     "output_type": "stream",
     "text": [
      "1\n"
     ]
    }
   ],
   "source": [
    "x,y =1,2\n",
    "z=x*y\n",
    "print(z)"
   ]
  },
  {
   "cell_type": "code",
   "execution_count": null,
   "metadata": {},
   "outputs": [],
   "source": []
  }
 ],
 "metadata": {
  "kernelspec": {
   "display_name": "Python 3 (ipykernel)",
   "language": "python",
   "name": "python3"
  },
  "language_info": {
   "codemirror_mode": {
    "name": "ipython",
    "version": 3
   },
   "file_extension": ".py",
   "mimetype": "text/x-python",
   "name": "python",
   "nbconvert_exporter": "python",
   "pygments_lexer": "ipython3",
   "version": "3.11.0"
  }
 },
 "nbformat": 4,
 "nbformat_minor": 4
}
