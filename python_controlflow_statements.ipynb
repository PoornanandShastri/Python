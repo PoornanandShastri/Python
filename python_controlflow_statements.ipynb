{
 "cells": [
  {
   "cell_type": "markdown",
   "metadata": {},
   "source": [
    "### Controlflow statements:"
   ]
  },
  {
   "cell_type": "markdown",
   "metadata": {},
   "source": [
    "#### The flow control statements are divided into three categories\n",
    "\n",
    "##### 1. Conditional statements\n",
    "##### 2. Iterative statements.\n",
    "##### 3. Transfer statements"
   ]
  },
  {
   "cell_type": "markdown",
   "metadata": {},
   "source": [
    "####  Conditional statements\n",
    "##### 1.if statement\n",
    "##### 2.if-else\n",
    "##### 3.if-elif-else\n",
    "##### 4.nested if-else"
   ]
  },
  {
   "cell_type": "code",
   "execution_count": 2,
   "metadata": {},
   "outputs": [
    {
     "name": "stdout",
     "output_type": "stream",
     "text": [
      "36\n",
      "Next lines of code\n"
     ]
    }
   ],
   "source": [
    "# In control statements, The if statement is the simplest form. It takes a condition and evaluates to either True or False.\n",
    "# If the condition is True, then the True block of code will be executed, and if the condition is False, \n",
    "# then the block of code is skipped, and The controller moves to the next line\n",
    "\n",
    "number = 6\n",
    "if number > 5:\n",
    "    # Calculate square\n",
    "    print(number * number)\n",
    "print('Next lines of code')"
   ]
  },
  {
   "cell_type": "code",
   "execution_count": null,
   "metadata": {},
   "outputs": [],
   "source": []
  }
 ],
 "metadata": {
  "kernelspec": {
   "display_name": "Python 3",
   "language": "python",
   "name": "python3"
  },
  "language_info": {
   "codemirror_mode": {
    "name": "ipython",
    "version": 3
   },
   "file_extension": ".py",
   "mimetype": "text/x-python",
   "name": "python",
   "nbconvert_exporter": "python",
   "pygments_lexer": "ipython3",
   "version": "3.11.0"
  }
 },
 "nbformat": 4,
 "nbformat_minor": 2
}
