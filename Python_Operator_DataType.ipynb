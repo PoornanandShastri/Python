{
 "cells": [
  {
   "cell_type": "code",
   "execution_count": 3,
   "metadata": {},
   "outputs": [],
   "source": [
    "### Operators"
   ]
  },
  {
   "cell_type": "code",
   "execution_count": 4,
   "metadata": {},
   "outputs": [
    {
     "name": "stdout",
     "output_type": "stream",
     "text": [
      "12\n"
     ]
    }
   ],
   "source": [
    "# Operators are special symbols (+,-,%,*,=,>,< etc) that perform specific \n",
    "# operations on one or more operands (values) and returns a relavent result.\n",
    "\n",
    "a = 5 + 7\n",
    "\n",
    "# Here 5 and 7 are operands and + is operator that denotes it will add these \n",
    "# 2 operands(5,7) and result will store in a that is a variable\n",
    "\n",
    "print(a)"
   ]
  },
  {
   "cell_type": "code",
   "execution_count": null,
   "metadata": {},
   "outputs": [],
   "source": [
    "# in python there are 7 types of operators\n",
    "\n",
    "# 1. Arithmetic Operator\n",
    "# 2. Relatinal Operator\n",
    "# 3. Assignment Operator\n",
    "# 4. Logical Operator\n",
    "# 5. Membership Operator\n",
    "# 6. Identity Operator\n",
    "# 7. Bitwise Operator\n",
    "\n",
    "# Will discuss each operators in detail\n"
   ]
  },
  {
   "cell_type": "code",
   "execution_count": null,
   "metadata": {},
   "outputs": [],
   "source": [
    "# Arithmetic Operators"
   ]
  },
  {
   "cell_type": "code",
   "execution_count": 25,
   "metadata": {},
   "outputs": [
    {
     "name": "stdout",
     "output_type": "stream",
     "text": [
      "34.5\n",
      "Vivek Kumar Pal\n",
      "5\n",
      "5\n",
      "Vivek Vivek Vivek Vivek Vivek Vivek Vivek \n",
      "2.0\n",
      "Floor Division Int Example\n",
      "4\n",
      "Normal Division Example\n",
      "4.0\n",
      "Floor Division Float Example\n",
      "3.0\n",
      "Mudulus is  2\n",
      "Mudulus is  0.9999999999999991\n",
      "4*4\n",
      "Exponent 1 =  16\n",
      "4*4*4\n",
      "Exponent 2 =  64\n",
      "3*3*3*3*3\n",
      "Exponent 3 =  243\n"
     ]
    }
   ],
   "source": [
    "# There are 7 arithmetic operators we can use to perform different methametical \n",
    "# Operations \n",
    "\n",
    "# 1. Addition (+)\n",
    "# It performs the addition of two or more than two values and gives their sum as a result.\n",
    "\n",
    "a = 10 + 4 + 20.5\n",
    "print(a)\n",
    "\n",
    "b = \"Vivek\" + \" \" + \"Kumar\" + \" \" + \"Pal\"\n",
    "print(b)\n",
    "\n",
    "\n",
    "# 2. Subtraction (-)\n",
    "# It use to subtract value \n",
    "\n",
    "c = 10 - 5\n",
    "print(c)\n",
    "\n",
    "\n",
    "# 3. Multiplication (*)\n",
    "# Use to multiple two or more operands.\n",
    "\n",
    "d = 2 * 3 * 8 * 9\n",
    "print(c)\n",
    "\n",
    "# We can use it with string as well\n",
    "\n",
    "e = \"Vivek \" * 7\n",
    "print(e)\n",
    "\n",
    "\n",
    "# 4. Division (/)\n",
    "# Divide the left operand (dividend) by the right one (divisor) and provide \n",
    "# the result (quotient ) in a float value. The division operator is denoted \n",
    "# by a / symbol.\n",
    "\n",
    "# 4.1 The division operator performs floating-point arithmetic. \n",
    "# Hence it always returns a float value.\n",
    "# 4.2 Don’t divide any number by zero. You will get a Zero Division Error: \n",
    "# Division by zero\n",
    "\n",
    "f = 4/2\n",
    "print(f)\n",
    "\n",
    "\n",
    "# 5. Floor Division(//)\n",
    "# Floor division returns the quotient (the result of division) in which \n",
    "# the digits after the decimal point are removed.\n",
    "\n",
    "# It works the same as a division operator, except it returns a possible integer.\n",
    "# The // symbol denotes a floor division operator.\n",
    "\n",
    "# 5.1 Floor division can perform both floating-point and integer arithmetic.\n",
    "# 5.2 If both operands are int type then the result types will be int, If at least one\n",
    "#  operand type is float then the result will be float type.\n",
    "\n",
    "print(\"Floor Division Int Example\")\n",
    "g = 8 // 2\n",
    "print(g)\n",
    "print(\"Normal Division Example\")\n",
    "h = 8 / 2\n",
    "print(h)\n",
    "\n",
    "print(\"Floor Division Float Example\")\n",
    "i = 8 // 2.2\n",
    "print(i)\n",
    "\n",
    "# if generally we devide 8 by 2.2 then result will be 3.63 but in floor division \n",
    "# it will return a possible integer and in above example there is devisor \n",
    "# is in decimal that's why it will return result in decimal but with .0\n",
    "\n",
    "\n",
    "# 6. Modulus (%)\n",
    "\n",
    "j = 12 % 5\n",
    "print(\"Mudulus is \", j)\n",
    "\n",
    "k = 12 % 2.2\n",
    "print(\"Mudulus is \", k)\n",
    "\n",
    "\n",
    "\n",
    "# 7. Exponent (%)\n",
    "# Using exponent operator left operand raised to the power of right. \n",
    "# The exponentiation operator is denoted by a double asterisk ** symbol. \n",
    "# You can use it as a shortcut to calculate the exponential value.\n",
    "\n",
    "# For example, 2**3 Here 2 is multiplied by itself 3 times, i.e., 2*2*2. \n",
    "# Here the 2 is the base, and 3 is an exponent.\n",
    "\n",
    "\n",
    "l = 4 ** 2\n",
    "print(\"4*4\")\n",
    "print(\"Exponent 1 = \", l)\n",
    "m = 4 ** 3 \n",
    "print(\"4*4*4\")\n",
    "print(\"Exponent 2 = \", m)\n",
    "n = 3 ** 5 \n",
    "print(\"3*3*3*3*3\")\n",
    "print(\"Exponent 3 = \", n)\n"
   ]
  },
  {
   "cell_type": "code",
   "execution_count": null,
   "metadata": {},
   "outputs": [],
   "source": [
    "# 2. Relatinal Operator\n"
   ]
  },
  {
   "cell_type": "code",
   "execution_count": 33,
   "metadata": {},
   "outputs": [
    {
     "name": "stdout",
     "output_type": "stream",
     "text": [
      "True\n",
      "False\n",
      "True\n",
      "False\n",
      "False\n",
      "False\n",
      "True\n",
      "False\n",
      "True\n",
      "True\n",
      "False\n",
      "True\n",
      "False\n",
      "True\n",
      "False\n",
      "True\n",
      "True\n"
     ]
    }
   ],
   "source": [
    "# Relational operators are also called comparison operators. \n",
    "# It performs a comparison between two values. \n",
    "# It returns a boolean  True or False depending upon the result of the comparison.\n",
    "# Python has 6 relational operators.\n",
    "\n",
    "# 1. Greater than (>)\n",
    "# It check if any valve greater then other or not and return result in bool\n",
    "\n",
    "print(4>3)\n",
    "print(4>10)\n",
    "\n",
    "# We can compare more than 2 values also\n",
    "\n",
    "print(5 > 4 > 2)\n",
    "# it will return true bcoz 5 is greater then 4 and 2\n",
    "\n",
    "print(4 > 3 > 6)\n",
    "# it will return false bcoz 4 is greater then 3 but not then 6\n",
    "\n",
    "# 2. Less than (<)\n",
    "print(4 < 3 < 6)\n",
    "print(4 < 3)\n",
    "print(4 < 6)\n",
    "\n",
    "\n",
    "# 3. Equal To (==)\n",
    "\n",
    "print(4==3)\n",
    "print(4==4)\n",
    "\n",
    "# 4. Not Equal To (!=)\n",
    "\n",
    "print(4!=3)\n",
    "print(4!=4)\n",
    "\n",
    "\n",
    "# 5. Greater Then Equal To (>=)\n",
    "\n",
    "print(4>=3)\n",
    "print(4>=7)\n",
    "print(4>=4)\n",
    "\n",
    "# 6. Less Then Equal To (>=)\n",
    "\n",
    "print(4<=3)\n",
    "print(4<=7)\n",
    "print(4<=4)\n",
    "\n",
    "\n"
   ]
  },
  {
   "cell_type": "code",
   "execution_count": null,
   "metadata": {},
   "outputs": [],
   "source": [
    "# 3. Assignment Operator\n"
   ]
  },
  {
   "cell_type": "code",
   "execution_count": 36,
   "metadata": {},
   "outputs": [
    {
     "name": "stdout",
     "output_type": "stream",
     "text": [
      "9\n",
      "3\n",
      "15\n",
      "2.0\n",
      "2\n",
      "64\n",
      "1\n"
     ]
    }
   ],
   "source": [
    "# In Python, Assignment operators are used to assigning value to the variable.\n",
    "# Assign operator is denoted by = symbol. For example, name = \"Vivek\" here, \n",
    "# we have assigned the string literal Vivek to a variable name.\n",
    "\n",
    "# Also, there are shorthand assignment operators in Python. \n",
    "# For example, a+=2 which is equivalent to a = a+2.\n",
    "\n",
    "# There are 8 types of assignment operators in Python\n",
    "\n",
    "o = 5  # here we assign value 5 to variable o\n",
    "p = 4  # here we assign value 4 to variable p\n",
    "\n",
    "\n",
    "# 1. Add and Assign (+=)\n",
    "\n",
    "o1 = 5  # here we assign value 5 to variable o\n",
    "p1 = 4  # here we assign value 4 to variable p\n",
    "\n",
    "o1 += p1 # means o = o+p\n",
    "print(o1)\n",
    "\n",
    "# 2. Subtract and Assign (-=)\n",
    "\n",
    "o2 = 8  # here we assign value 5 to variable o\n",
    "p2 = 5  # here we assign value 4 to variable p\n",
    "\n",
    "o2 -= p2 # means o = o+p\n",
    "print(o2)\n",
    "\n",
    "# 3. Multiply and Assign (*=)\n",
    "\n",
    "o3 = 3  # here we assign value 5 to variable o\n",
    "p3 = 5  # here we assign value 4 to variable p\n",
    "\n",
    "o3 *= p3 # means o = o+p\n",
    "print(o3)\n",
    "\n",
    "# 4. Divide and Assign (/=)\n",
    "\n",
    "o4 = 10  # here we assign value 5 to variable o\n",
    "p4 = 5  # here we assign value 4 to variable p\n",
    "\n",
    "o4 /= p4 # means o = o+p\n",
    "print(o4)\n",
    "\n",
    "# 5. Modulus and Assign (%=)\n",
    "\n",
    "o5 = 12  # here we assign value 5 to variable o\n",
    "p5 = 5  # here we assign value 4 to variable p\n",
    "\n",
    "o5 %= p5 # means o = o+p\n",
    "print(o5)\n",
    "\n",
    "# 6. Exponentiation and Assign (**=)\n",
    "\n",
    "o6 = 4  # here we assign value 5 to variable o\n",
    "p6 = 3  # here we assign value 4 to variable p\n",
    "\n",
    "o6 **= p6 # means o = o+p\n",
    "print(o6)\n",
    "\n",
    "# 7. Floor Divide and Assign (//=)\n",
    "\n",
    "o7 = 6  # here we assign value 5 to variable o\n",
    "p7 = 4  # here we assign value 4 to variable p\n",
    "\n",
    "o7 //= p7 # means o = o+p\n",
    "print(o7)\n"
   ]
  },
  {
   "cell_type": "code",
   "execution_count": null,
   "metadata": {},
   "outputs": [],
   "source": [
    "# 4. Logical Operator"
   ]
  },
  {
   "cell_type": "code",
   "execution_count": 37,
   "metadata": {},
   "outputs": [
    {
     "name": "stdout",
     "output_type": "stream",
     "text": [
      "False\n",
      "True\n",
      "False\n",
      "False\n",
      "8\n",
      "True\n",
      "True\n",
      "False\n",
      "True\n",
      "6\n",
      "Do nothing\n"
     ]
    }
   ],
   "source": [
    "# Logical operators are useful when checking a condition is true or not.\n",
    "# Python has three logical operators(and, or, not). \n",
    "# All logical operator returns a boolean value True or False \n",
    "# depending on the condition in which it is used.\n",
    "\n",
    "\n",
    "# 1. and (True if both the operands are True)\n",
    "\n",
    "print(True and False)  # False\n",
    "print(True and True)  # True\n",
    "print(False and False)  # False\n",
    "print(False and True)  # false\n",
    "\n",
    "# actual use in code\n",
    "q = 2\n",
    "r = 4\n",
    "\n",
    "# Logical and\n",
    "if q > 0 and r > 0:\n",
    "    # both conditions are true\n",
    "    print(q * r)\n",
    "else:\n",
    "    print(\"Do nothing\")\n",
    "\n",
    "\n",
    "\n",
    "# 2. or (True if either of the operands is True)\n",
    "\n",
    "print(True or False)  # True\n",
    "print(True or True)  # True\n",
    "print(False or False)  # false \n",
    "print(False or True)  # True\n",
    "\n",
    "# actual use in code\n",
    "a = 2\n",
    "b = 4\n",
    "\n",
    "# Logical and\n",
    "if a > 0 or b < 0:\n",
    "    # at least one expression is true so conditions is true\n",
    "    print(a + b)  # 6\n",
    "else:\n",
    "    print(\"Do nothing\")\n",
    "\n",
    "\n",
    "\n",
    "# 3. not (True if the operand is False)\n",
    "\n",
    "# actual use in code\n",
    "a = True\n",
    "\n",
    "# Logical not\n",
    "if not a:\n",
    "    # a is True so expression is False\n",
    "    print(a) \n",
    "else:\n",
    "    print(\"Do nothing\")\n"
   ]
  },
  {
   "cell_type": "code",
   "execution_count": null,
   "metadata": {},
   "outputs": [],
   "source": [
    "# 5. Membership Operator"
   ]
  },
  {
   "cell_type": "code",
   "execution_count": 39,
   "metadata": {},
   "outputs": [
    {
     "name": "stdout",
     "output_type": "stream",
     "text": [
      "number is present\n",
      "number is not present\n"
     ]
    }
   ],
   "source": [
    "# Python’s membership operators are used to check for membership of objects\n",
    "# in sequence, such as string, list, tuple. \n",
    "# It checks whether the given value or variable is present in a given sequence. \n",
    "# If present, it will return True else False.\n",
    "\n",
    "# In Python, there are two membership operator \"in\" and \"not in\"\n",
    "\n",
    "\n",
    "# 1. in opertor\n",
    "\n",
    "# It returns a result as True if it finds a given object in the sequence. \n",
    "# Otherwise, it returns False.\n",
    "\n",
    "\n",
    "list = [11, 15, 21, 29, 50, 70]\n",
    "number = 15\n",
    "if number in list:\n",
    "    print(\"number is present\")\n",
    "else:\n",
    "    print(\"number is not present\")\n",
    "\n",
    "# We can use it same in string touple \n",
    "\n",
    "\n",
    "# 2. not in operator\n",
    "\n",
    "# It returns True if the object is not present in a given sequence. \n",
    "# Otherwise, it returns False\n",
    "\n",
    "tuple = (11, 15, 21, 29, 50, 70)\n",
    "number = 35\n",
    "if number not in tuple:\n",
    "    print(\"number is not present\")\n",
    "else:\n",
    "    print(\"number is present\")\n"
   ]
  },
  {
   "cell_type": "code",
   "execution_count": null,
   "metadata": {},
   "outputs": [],
   "source": [
    "# 6. Identity Operator"
   ]
  },
  {
   "cell_type": "code",
   "execution_count": 40,
   "metadata": {},
   "outputs": [
    {
     "name": "stdout",
     "output_type": "stream",
     "text": [
      "False\n",
      "True\n",
      "True\n",
      "False\n"
     ]
    }
   ],
   "source": [
    "# Use the Identity operator to check whether the value of two variables is the \n",
    "# same or not. This operator is known as a reference-quality operator because the \n",
    "# identity operator compares values according to two variables’ memory addresses.\n",
    "\n",
    "# Python has 2 identity operators is and is not.\n",
    "\n",
    "# 1. is operator\n",
    "\n",
    "# The is operator returns Boolean True or False. It Return True if the memory \n",
    "# address first value is equal to the second value. Otherwise, it returns False.\n",
    "\n",
    "\n",
    "x = 10\n",
    "y = 11 \n",
    "z = 10\n",
    "print(x is y) # it compare memory address of x and y \n",
    "print(x is z) # it compare memory address of x and z\n",
    "\n",
    "\n",
    "# 2. in not operator\n",
    "\n",
    "# The is not the operator returns boolean values either True or False. \n",
    "# It Return True if the first value is not equal to the second value. Otherwise, \n",
    "# it returns False.\n",
    "\n",
    "\n",
    "x1 = 10\n",
    "y1 = 11 \n",
    "z1 = 10\n",
    "print(x1 is not y1) # it campare memory address of x and y \n",
    "print(x1 is not z1) # it campare memory address of x and z\n"
   ]
  },
  {
   "cell_type": "code",
   "execution_count": null,
   "metadata": {},
   "outputs": [],
   "source": [
    "# 7. Bitwise Operator"
   ]
  },
  {
   "cell_type": "code",
   "execution_count": null,
   "metadata": {},
   "outputs": [],
   "source": []
  },
  {
   "cell_type": "code",
   "execution_count": null,
   "metadata": {},
   "outputs": [],
   "source": []
  },
  {
   "cell_type": "markdown",
   "metadata": {},
   "source": [
    "### Data Types"
   ]
  },
  {
   "cell_type": "code",
   "execution_count": 42,
   "metadata": {},
   "outputs": [
    {
     "name": "stdout",
     "output_type": "stream",
     "text": [
      "<class 'str'>\n"
     ]
    }
   ],
   "source": [
    "# Python is a dynamically typed language; therefore, we do not need to specify \n",
    "# the variable’s type while declaring it. Whatever value we assign to the \n",
    "# variable based on that data type will be automatically assigned. \n",
    "# For example, name = 'Vivek' here Python will store the name variable as a \n",
    "# str data type.\n",
    "\n",
    "# No matter what value is stored in a variable (object), a variable can be any type \n",
    "# like int, float, str, list, set, tuple, dict, bool, etc.\n",
    "\n",
    "\n",
    "# There are mainly 5 types of basic/primitive data types available in Python\n",
    "\n",
    "# 1. Numeric (Int, Float, Complex)\n",
    "# 2. Sequence (String, List, Touple)\n",
    "# 3. Set\n",
    "# 4. Dictionary\n",
    "# 5. Bool (True, False)\n",
    "\n",
    "\n",
    "# To check the data type of variable use the built-in function type()  \n",
    "# and isinstance().\n",
    "\n",
    "\n",
    "# The type() function returns the data type of the variable\n",
    "# The isinstance() function checks whether an object belongs to a particular class.\n",
    "\n",
    "ab = \"Vivek\"\n",
    "print(type(ab))"
   ]
  },
  {
   "cell_type": "code",
   "execution_count": 44,
   "metadata": {},
   "outputs": [
    {
     "name": "stdout",
     "output_type": "stream",
     "text": [
      "53\n",
      "<class 'int'>\n",
      "45\n",
      "<class 'int'>\n"
     ]
    }
   ],
   "source": [
    "# Int Data types in Detail\n",
    "\n",
    "# Python uses the int data type to represent whole integer values. \n",
    "# For example, we can use the int data type to store the roll number of a student. \n",
    "# The Integer type in Python is represented using a int class.\n",
    "\n",
    "# We can create an integer variable using the two ways\n",
    "\n",
    "# 1. Directly assigning an integer value to a variable\n",
    "# 2. Using a int() class.\n",
    "\n",
    "value = 53\n",
    "print(value)\n",
    "print(type(value))\n",
    "\n",
    "value1 = int(45)\n",
    "print(value1)\n",
    "print(type(value1))"
   ]
  },
  {
   "cell_type": "code",
   "execution_count": 45,
   "metadata": {},
   "outputs": [
    {
     "name": "stdout",
     "output_type": "stream",
     "text": [
      "7.8\n",
      "<class 'float'>\n",
      "45.0\n",
      "<class 'float'>\n"
     ]
    }
   ],
   "source": [
    "# Float Data types in Detail\n",
    "\n",
    "# To represent floating-point values or decimal values, we can use the float data type. \n",
    "# For example, if we want to store the salary, we can use the float type.\n",
    "\n",
    "# We can create a float variable using the two ways\n",
    "\n",
    "# 1. Directly assigning a float value to a variable\n",
    "# 2. Using a float() class.\n",
    "\n",
    "# Example\n",
    "\n",
    "floatVar = 7.8\n",
    "print(floatVar)\n",
    "print(type(floatVar))\n",
    "\n",
    "floatVar1 = float(45)\n",
    "print(floatVar1)\n",
    "print(type(floatVar1))\n"
   ]
  },
  {
   "cell_type": "code",
   "execution_count": 46,
   "metadata": {},
   "outputs": [
    {
     "name": "stdout",
     "output_type": "stream",
     "text": [
      "(9+8j)\n",
      "<class 'complex'>\n",
      "(10+4.5j)\n",
      "<class 'complex'>\n",
      "(11.2+1.2j)\n",
      "<class 'complex'>\n"
     ]
    }
   ],
   "source": [
    "# Complex Data types in Detail\n",
    "\n",
    "# A complex number is a number with a real and an imaginary component represented \n",
    "# as a+bj where a and b contain integers or floating-point values.\n",
    "\n",
    "# The complex type is generally used in scientific applications and electrical \n",
    "# engineering applications.\n",
    "\n",
    "\n",
    "complexVar1 = 9 + 8j  # both value are int type\n",
    "complexVar2 = 10 + 4.5j  # one int and one float\n",
    "complexVar3 = 11.2 + 1.2j  # both value are float type\n",
    "\n",
    "print(complexVar1)  \n",
    "print(type(complexVar1))  \n",
    "print(complexVar2)  \n",
    "print(type(complexVar2))  \n",
    "print(complexVar3)  \n",
    "print(type(complexVar3))  "
   ]
  },
  {
   "cell_type": "code",
   "execution_count": 47,
   "metadata": {},
   "outputs": [
    {
     "name": "stdout",
     "output_type": "stream",
     "text": [
      "Vivek\n",
      "<class 'str'>\n"
     ]
    }
   ],
   "source": [
    "# Str Data types in Detail\n",
    "\n",
    "# In Python, A string is a sequence of characters enclosed within a single quote \n",
    "# or double quote. These characters could be anything like letters, numbers, or \n",
    "# special symbols enclosed within double quotation marks. \n",
    "# For example, \"v!vEk12@*^&#&6\" is a string.\n",
    "\n",
    "\n",
    "strVar = \"Vivek\"\n",
    "print(strVar)\n",
    "print(type(strVar))"
   ]
  },
  {
   "cell_type": "code",
   "execution_count": 55,
   "metadata": {},
   "outputs": [
    {
     "name": "stdout",
     "output_type": "stream",
     "text": [
      "['Vivek', 29, 75.8, (1+5j), True, [1, 2, 3]]\n",
      "<class 'list'>\n"
     ]
    },
    {
     "ename": "TypeError",
     "evalue": "'list' object is not callable",
     "output_type": "error",
     "traceback": [
      "\u001b[0;31m---------------------------------------------------------------------------\u001b[0m",
      "\u001b[0;31mTypeError\u001b[0m                                 Traceback (most recent call last)",
      "Cell \u001b[0;32mIn[55], line 25\u001b[0m\n\u001b[1;32m     22\u001b[0m \u001b[38;5;28mprint\u001b[39m(listVar1)\n\u001b[1;32m     23\u001b[0m \u001b[38;5;28mprint\u001b[39m(\u001b[38;5;28mtype\u001b[39m(listVar1))\n\u001b[0;32m---> 25\u001b[0m listVar2 \u001b[38;5;241m=\u001b[39m \u001b[38;5;28;43mlist\u001b[39;49m\u001b[43m(\u001b[49m\u001b[43m[\u001b[49m\u001b[38;5;124;43m\"\u001b[39;49m\u001b[38;5;124;43mKumar\u001b[39;49m\u001b[38;5;124;43m\"\u001b[39;49m\u001b[43m,\u001b[49m\u001b[43m \u001b[49m\u001b[38;5;241;43m34\u001b[39;49m\u001b[43m,\u001b[49m\u001b[43m \u001b[49m\u001b[38;5;241;43m56.80\u001b[39;49m\u001b[43m,\u001b[49m\u001b[43m \u001b[49m\u001b[38;5;241;43m10\u001b[39;49m\u001b[38;5;241;43m+\u001b[39;49m\u001b[38;5;241;43m5\u001b[39;49m\u001b[43mj\u001b[49m\u001b[43m,\u001b[49m\u001b[43m \u001b[49m\u001b[38;5;28;43;01mTrue\u001b[39;49;00m\u001b[43m,\u001b[49m\u001b[43m \u001b[49m\u001b[43m[\u001b[49m\u001b[38;5;241;43m1\u001b[39;49m\u001b[43m,\u001b[49m\u001b[38;5;241;43m2\u001b[39;49m\u001b[43m,\u001b[49m\u001b[38;5;241;43m3\u001b[39;49m\u001b[43m,\u001b[49m\u001b[38;5;241;43m5\u001b[39;49m\u001b[43m,\u001b[49m\u001b[38;5;241;43m6\u001b[39;49m\u001b[43m]\u001b[49m\u001b[43m]\u001b[49m\u001b[43m)\u001b[49m\n\u001b[1;32m     26\u001b[0m \u001b[38;5;28mprint\u001b[39m(listVar2)\n\u001b[1;32m     27\u001b[0m \u001b[38;5;28mprint\u001b[39m(\u001b[38;5;28mtype\u001b[39m(listVar2))\n",
      "\u001b[0;31mTypeError\u001b[0m: 'list' object is not callable"
     ]
    }
   ],
   "source": [
    "# List Data types in Detail\n",
    "\n",
    "# The Python List is an ordered collection (also known as a sequence ) of elements. \n",
    "# List elements can be accessed, iterated, and removed according to the order they \n",
    "# inserted at the creation time.\n",
    "\n",
    "# We use the list data type to represent groups of the element as a single entity.  \n",
    "# For example: If we want to store all student’s names, we can use list type.\n",
    "\n",
    "# 1. The list can contain data of all data types.\n",
    "# 2. Duplicates elements are allowed in the list\n",
    "# 3. The list is mutable which means we can modify the value of list elements.\n",
    "\n",
    "\n",
    "# We can create a list using the two ways\n",
    "\n",
    "# 1. By enclosing elements in the square brackets [].\n",
    "# 2. Using a list() class.\n",
    "\n",
    "\n",
    "listVar1 = [\"Vivek\", 29, 75.80, 1+5j, True, [1,2,3]]\n",
    "print(listVar1)\n",
    "print(type(listVar1))\n",
    "\n",
    "listVar2 = list([\"Kumar\", 34, 56.80, 10+5j, True, [1,2,3,5,6]])\n",
    "print(listVar2)\n",
    "print(type(listVar2))"
   ]
  },
  {
   "cell_type": "code",
   "execution_count": 52,
   "metadata": {},
   "outputs": [
    {
     "name": "stdout",
     "output_type": "stream",
     "text": [
      "('Pal', 25, 56.56, False, (7+8j), 25, [True, 4, 5, 432])\n",
      "<class 'tuple'>\n"
     ]
    }
   ],
   "source": [
    "# Touple Data types in Detail\n",
    "\n",
    "# Tuples are ordered collections of elements that are unchangeable. \n",
    "# The tuple is the same as the list, except the tuple is immutable means we can’t \n",
    "# modify the tuple once created.\n",
    "\n",
    "# In other words, we can say a tuple is a read-only version of the list.\n",
    "\n",
    "# For example: If you want to store the roll numbers of students that you don’t \n",
    "# change, you can use the tuple data type.\n",
    "\n",
    "# Tuple maintains the insertion order and also, allows us to store duplicate elements.\n",
    "\n",
    "# We can create a tuple using the two ways\n",
    "\n",
    "# 1. By enclosing elements in the parenthesis ()\n",
    "# 2. Using a tuple() class.\n",
    "\n",
    "\n",
    "tupleVar1 = (\"Pal\", 25, 56.56, False, 7+8j, 25, [a,b,c,d])\n",
    "print(tupleVar1)\n",
    "print(type(tupleVar1))"
   ]
  },
  {
   "cell_type": "code",
   "execution_count": null,
   "metadata": {},
   "outputs": [],
   "source": [
    "# Set Data types in Detail\n",
    "\n",
    "# In Python, a set is an unordered collection of data items that are unique. \n",
    "# In other words, Python Set is a collection of elements (Or objects) that \n",
    "# contains no duplicate elements.\n",
    "\n",
    "# In Python, the Set data type used to represent a group of unique elements as a \n",
    "# single entity. For example, If we want to store student ID numbers, we can use \n",
    "# the set data type.\n",
    "\n",
    "# We can create a Set using the two ways\n",
    "\n",
    "# 1. By enclosing values in the curly brackets {}\n",
    "# 2. Using a set() class.\n",
    "\n",
    "\n",
    "\n",
    "\n",
    "\n"
   ]
  }
 ],
 "metadata": {
  "kernelspec": {
   "display_name": "Python 3",
   "language": "python",
   "name": "python3"
  },
  "language_info": {
   "codemirror_mode": {
    "name": "ipython",
    "version": 3
   },
   "file_extension": ".py",
   "mimetype": "text/x-python",
   "name": "python",
   "nbconvert_exporter": "python",
   "pygments_lexer": "ipython3",
   "version": "3.12.4"
  }
 },
 "nbformat": 4,
 "nbformat_minor": 2
}
